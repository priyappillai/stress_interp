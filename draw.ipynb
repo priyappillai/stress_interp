{
 "cells": [
  {
   "cell_type": "code",
   "execution_count": 1,
   "metadata": {},
   "outputs": [
    {
     "name": "stderr",
     "output_type": "stream",
     "text": [
      "c:\\users\\priya pillai\\.conda\\envs\\9660_final\\lib\\site-packages\\drawSvg\\raster.py:17: RuntimeWarning: Failed to import CairoSVG. drawSvg will be unable to output PNG or other raster image formats. See https://github.com/cduck/drawSvg#prerequisites for more details.\n",
      "Original OSError: no library called \"cairo\" was found\n",
      "no library called \"libcairo-2\" was found\n",
      "cannot load library 'libcairo.so': error 0x7e\n",
      "cannot load library 'libcairo.2.dylib': error 0x7e\n",
      "cannot load library 'libcairo-2.dll': error 0x7e\n",
      "  warnings.warn(msg, RuntimeWarning)\n"
     ]
    },
    {
     "ename": "NameError",
     "evalue": "name 'draw_diagram' is not defined",
     "output_type": "error",
     "traceback": [
      "\u001b[1;31m---------------------------------------------------------------------------\u001b[0m",
      "\u001b[1;31mNameError\u001b[0m                                 Traceback (most recent call last)",
      "\u001b[1;32m<ipython-input-1-2c6639926528>\u001b[0m in \u001b[0;36m<module>\u001b[1;34m\u001b[0m\n\u001b[0;32m     14\u001b[0m \u001b[1;33m\u001b[0m\u001b[0m\n\u001b[0;32m     15\u001b[0m display(setup(levers, {var[0] : int((var[1][\"maximum\"]-var[1][\"minimum\"])/(2*var[1][\"step\"]))*var[1][\"step\"] + var[1][\"minimum\"] \\\n\u001b[1;32m---> 16\u001b[1;33m                        for var in df.iterrows()}))\n\u001b[0m",
      "\u001b[1;32m~\\Documents\\GitHub\\stress_interp\\drawui.py\u001b[0m in \u001b[0;36msetup\u001b[1;34m(levers, param, exp)\u001b[0m\n\u001b[0;32m    101\u001b[0m         \u001b[1;32mreturn\u001b[0m \u001b[0mwidgets\u001b[0m\u001b[1;33m.\u001b[0m\u001b[0mButton\u001b[0m\u001b[1;33m(\u001b[0m\u001b[0mdescription\u001b[0m\u001b[1;33m=\u001b[0m\u001b[1;34m\"Insert fig here\"\u001b[0m\u001b[1;33m)\u001b[0m\u001b[1;33m\u001b[0m\u001b[0m\n\u001b[0;32m    102\u001b[0m \u001b[1;33m\u001b[0m\u001b[0m\n\u001b[1;32m--> 103\u001b[1;33m     \u001b[0manimal\u001b[0m \u001b[1;33m=\u001b[0m \u001b[0mdraw_diagram\u001b[0m\u001b[1;33m(\u001b[0m\u001b[1;33m)\u001b[0m\u001b[1;33m\u001b[0m\u001b[0m\n\u001b[0m\u001b[0;32m    104\u001b[0m \u001b[1;33m\u001b[0m\u001b[0m\n\u001b[0;32m    105\u001b[0m     \u001b[1;32mdef\u001b[0m \u001b[0mredraw\u001b[0m\u001b[1;33m(\u001b[0m\u001b[0mvar_changes\u001b[0m\u001b[1;33m)\u001b[0m\u001b[1;33m:\u001b[0m\u001b[1;33m\u001b[0m\u001b[0m\n",
      "\u001b[1;31mNameError\u001b[0m: name 'draw_diagram' is not defined"
     ]
    }
   ],
   "source": [
    "from drawui import setup\n",
    "import ipywidgets as widgets\n",
    "import pandas as pd\n",
    "\n",
    "\n",
    "filename = \"ranges.xlsx\"\n",
    "df = pd.read_excel(filename,index_col=0)\n",
    "\n",
    "levers = [widgets.FloatSlider(description = var[1][\"name\"], \n",
    "                              value = int((var[1][\"maximum\"]-var[1][\"minimum\"])/(2*var[1][\"step\"]))*var[1][\"step\"] + var[1][\"minimum\"],\n",
    "                              min = var[1][\"minimum\"], max = var[1][\"maximum\"],\n",
    "                              step=var[1][\"step\"]) \\\n",
    "          for var in df.iterrows()]\n",
    "\n",
    "display(setup(levers, {var[0] : int((var[1][\"maximum\"]-var[1][\"minimum\"])/(2*var[1][\"step\"]))*var[1][\"step\"] + var[1][\"minimum\"] \\\n",
    "                       for var in df.iterrows()}))"
   ]
  },
  {
   "cell_type": "code",
   "execution_count": null,
   "metadata": {},
   "outputs": [],
   "source": []
  }
 ],
 "metadata": {
  "kernelspec": {
   "display_name": "Python 3",
   "language": "python",
   "name": "python3"
  },
  "language_info": {
   "codemirror_mode": {
    "name": "ipython",
    "version": 3
   },
   "file_extension": ".py",
   "mimetype": "text/x-python",
   "name": "python",
   "nbconvert_exporter": "python",
   "pygments_lexer": "ipython3",
   "version": "3.7.0"
  }
 },
 "nbformat": 4,
 "nbformat_minor": 2
}
