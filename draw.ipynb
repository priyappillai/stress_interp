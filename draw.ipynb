{
 "cells": [
  {
   "cell_type": "code",
   "execution_count": null,
   "metadata": {},
   "outputs": [],
   "source": [
    "from drawui import setup\n",
    "import ipywidgets as widgets\n",
    "import pandas as pd\n",
    "\n",
    "\n",
    "filename = \"ranges.xlsx\"\n",
    "df = pd.read_excel(filename,index_col=0)\n",
    "\n",
    "levers = {var[0] : widgets.FloatSlider(description = var[1][\"name\"], \n",
    "                              value = int((var[1][\"maximum\"]-var[1][\"minimum\"])/(2*var[1][\"step\"]))*var[1][\"step\"] + var[1][\"minimum\"],\n",
    "                              min = var[1][\"minimum\"], max = var[1][\"maximum\"],\n",
    "                              step=var[1][\"step\"]) \\\n",
    "          for var in df.iterrows()}\n",
    "\n",
    "display(setup(levers))"
   ]
  }
 ],
 "metadata": {
  "kernelspec": {
   "display_name": "Python 3",
   "language": "python",
   "name": "python3"
  },
  "language_info": {
   "codemirror_mode": {
    "name": "ipython",
    "version": 3
   },
   "file_extension": ".py",
   "mimetype": "text/x-python",
   "name": "python",
   "nbconvert_exporter": "python",
   "pygments_lexer": "ipython3",
   "version": "3.7.0"
  }
 },
 "nbformat": 4,
 "nbformat_minor": 2
}
